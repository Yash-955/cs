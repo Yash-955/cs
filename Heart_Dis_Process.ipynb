{
 "cells": [
  {
   "cell_type": "code",
   "execution_count": 1,
   "id": "df34d522-5db5-4fd2-b444-130df60ee40d",
   "metadata": {},
   "outputs": [],
   "source": [
    "import pandas as pd\n",
    "import numpy as np\n",
    "from sklearn.model_selection import train_test_split\n",
    "from sklearn.preprocessing import StandardScaler, LabelEncoder\n",
    "from sklearn.impute import SimpleImputer\n",
    "from sklearn.ensemble import RandomForestClassifier\n",
    "from sklearn.metrics import accuracy_score, classification_report"
   ]
  },
  {
   "cell_type": "code",
   "execution_count": 4,
   "id": "89e17ac5-adc6-4523-b247-c1cc133a5cb6",
   "metadata": {},
   "outputs": [],
   "source": [
    "heart_data = pd.read_csv(\"C:/Users/lenovo/Downloads/Heart.csv\")"
   ]
  },
  {
   "cell_type": "code",
   "execution_count": 5,
   "id": "0b44f671-dea2-4f16-a40e-41e65e423083",
   "metadata": {},
   "outputs": [
    {
     "name": "stdout",
     "output_type": "stream",
     "text": [
      "Original Data Shape: (303, 14)\n",
      "Data Shape after Cleaning: (302, 14)\n",
      "Null values after cleaning:\n",
      " age         0\n",
      "sex         0\n",
      "cp          0\n",
      "trestbps    0\n",
      "chol        0\n",
      "fbs         0\n",
      "restecg     0\n",
      "thalach     0\n",
      "exang       0\n",
      "oldpeak     0\n",
      "slope       0\n",
      "ca          0\n",
      "thal        0\n",
      "target      0\n",
      "dtype: int64\n"
     ]
    }
   ],
   "source": [
    "# Step 1: Data Cleaning\n",
    "print(\"Original Data Shape:\", heart_data.shape)\n",
    "\n",
    "# Handling missing values\n",
    "imputer = SimpleImputer(strategy='mean')\n",
    "heart_data = pd.DataFrame(imputer.fit_transform(heart_data), columns=heart_data.columns)\n",
    "\n",
    "# Removing duplicates\n",
    "heart_data.drop_duplicates(inplace=True)\n",
    "\n",
    "# Checking for duplicates and null values after cleaning\n",
    "print(\"Data Shape after Cleaning:\", heart_data.shape)\n",
    "print(\"Null values after cleaning:\\n\", heart_data.isnull().sum())"
   ]
  },
  {
   "cell_type": "code",
   "execution_count": 6,
   "id": "9d44a5d7-c25c-4cfc-bc9f-0fc6048ff8e6",
   "metadata": {},
   "outputs": [],
   "source": [
    "# Step 3: Data Transformation\n",
    "# Encoding categorical variables (if any)\n",
    "label_encoder = LabelEncoder()\n",
    "heart_data['sex'] = label_encoder.fit_transform(heart_data['sex'])\n",
    "heart_data['cp'] = label_encoder.fit_transform(heart_data['cp'])\n",
    "heart_data['thal'] = label_encoder.fit_transform(heart_data['thal'])\n",
    "\n",
    "# Scaling numerical features\n",
    "scaler = StandardScaler()\n",
    "numerical_cols = ['age', 'trestbps', 'chol', 'thalach', 'oldpeak']\n",
    "heart_data[numerical_cols] = scaler.fit_transform(heart_data[numerical_cols])"
   ]
  },
  {
   "cell_type": "code",
   "execution_count": 7,
   "id": "d970fdff-9b51-4468-a159-a6f5f010e6b2",
   "metadata": {},
   "outputs": [
    {
     "name": "stdout",
     "output_type": "stream",
     "text": [
      "Data Shape after Error Correction: (283, 14)\n"
     ]
    }
   ],
   "source": [
    "# Step 4: Error Correcting\n",
    "# Removing any outlier values (using IQR method)\n",
    "for col in numerical_cols:\n",
    "    Q1 = heart_data[col].quantile(0.25)\n",
    "    Q3 = heart_data[col].quantile(0.75)\n",
    "    IQR = Q3 - Q1\n",
    "    lower_bound = Q1 - 1.5 * IQR\n",
    "    upper_bound = Q3 + 1.5 * IQR\n",
    "    # Filtering out the outliers\n",
    "    heart_data = heart_data[(heart_data[col] >= lower_bound) & (heart_data[col] <= upper_bound)]\n",
    "\n",
    "print(\"Data Shape after Error Correction:\", heart_data.shape)"
   ]
  },
  {
   "cell_type": "code",
   "execution_count": 8,
   "id": "ccb17fe0-6d4e-4bd4-a907-f8a945978e7f",
   "metadata": {},
   "outputs": [
    {
     "name": "stdout",
     "output_type": "stream",
     "text": [
      "\n",
      "Model Accuracy: 0.8070175438596491\n",
      "Classification Report:\n",
      "               precision    recall  f1-score   support\n",
      "\n",
      "         0.0       0.83      0.74      0.78        27\n",
      "         1.0       0.79      0.87      0.83        30\n",
      "\n",
      "    accuracy                           0.81        57\n",
      "   macro avg       0.81      0.80      0.80        57\n",
      "weighted avg       0.81      0.81      0.81        57\n",
      "\n"
     ]
    }
   ],
   "source": [
    "# Step 5: Data Model Building\n",
    "# Splitting the data\n",
    "X = heart_data.drop('target', axis=1)\n",
    "y = heart_data['target']\n",
    "\n",
    "X_train, X_test, y_train, y_test = train_test_split(X, y, test_size=0.2, random_state=42)\n",
    "\n",
    "# Building a Random Forest Classifier\n",
    "model = RandomForestClassifier(n_estimators=100, random_state=42)\n",
    "model.fit(X_train, y_train)\n",
    "\n",
    "# Model Prediction and Evaluation\n",
    "y_pred = model.predict(X_test)\n",
    "\n",
    "print(\"\\nModel Accuracy:\", accuracy_score(y_test, y_pred))\n",
    "print(\"Classification Report:\\n\", classification_report(y_test, y_pred))"
   ]
  },
  {
   "cell_type": "code",
   "execution_count": null,
   "id": "17310361-3600-4bae-b941-575352cf0366",
   "metadata": {},
   "outputs": [],
   "source": []
  }
 ],
 "metadata": {
  "kernelspec": {
   "display_name": "Python 3 (ipykernel)",
   "language": "python",
   "name": "python3"
  },
  "language_info": {
   "codemirror_mode": {
    "name": "ipython",
    "version": 3
   },
   "file_extension": ".py",
   "mimetype": "text/x-python",
   "name": "python",
   "nbconvert_exporter": "python",
   "pygments_lexer": "ipython3",
   "version": "3.10.10"
  }
 },
 "nbformat": 4,
 "nbformat_minor": 5
}
